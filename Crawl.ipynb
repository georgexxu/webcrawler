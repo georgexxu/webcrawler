{
 "cells": [
  {
   "cell_type": "code",
   "execution_count": 62,
   "metadata": {
    "collapsed": true
   },
   "outputs": [],
   "source": [
    "import urllib.request\n",
    "import urllib.error\n",
    "import json\n",
    "import pprint\n",
    "import csv\n"
   ]
  },
  {
   "cell_type": "code",
   "execution_count": 63,
   "metadata": {},
   "outputs": [
    {
     "name": "stdout",
     "output_type": "stream",
     "text": [
      "1\n",
      "2\n",
      "3\n",
      "4\n",
      "5\n",
      "6\n",
      "7\n",
      "8\n",
      "9\n",
      "10\n",
      "11\n",
      "12\n",
      "13\n",
      "14\n",
      "15\n",
      "16\n",
      "17\n"
     ]
    }
   ],
   "source": [
    "class search:\n",
    "    # 初始化方法，定义一些变量\n",
    "    def __init__(self):      \n",
    "        \n",
    "        self.user_agent = 'Mozilla/5.0 (Windows NT 10.0; Win64; x64; rv:57.0) Gecko/20100101 Firefox/57.0'\n",
    "        \n",
    "        # 初始化headers\n",
    "        self.headers = {'User-Agent': self.user_agent}\n",
    "        # 存放程序是否继续运行的变量\n",
    "        self.enable = False\n",
    "        \n",
    "\n",
    "\n",
    "    # 传入某一页的索引获得页面代码\n",
    "    def getpage(self,pagenum):\n",
    "        \n",
    "        url = 'https://www.openrice.com/api/pois?uiLang=zh&uiCity=hongkong&page={}&&sortBy=Default&categoryGroupId=20002'.format(pagenum)\n",
    "            # 构建请求的request\n",
    "        request = urllib.request.Request(url, headers=self.headers)\n",
    "            # 利用urlopen获取页面代码\n",
    "        response = urllib.request.urlopen(request)\n",
    "            # 将页面转化为UTF-8编码\n",
    "        pageCode = response.read().decode('utf-8')\n",
    "        \n",
    "        return pageCode\n",
    "    def getListOfRest(self,pagenum):\n",
    "        contents=json.loads(self.getpage(pagenum))\n",
    "        ListOfRest=contents['searchResult']['paginationResult']['results']\n",
    "        ListOfRest_=[]\n",
    "        for key in ListOfRest:\n",
    "            ListOfRest_.append({k.replace(\" \", \"\"): key.get(k, None) for k in ('name','priceUI','reviewCount','urlUI',)})\n",
    "\n",
    "        return ListOfRest_\n",
    "    \n",
    "    def longList(self):\n",
    "        longList_=[]\n",
    "        i=1;\n",
    "        while(1):\n",
    "            if (i>17):\n",
    "                return longList_\n",
    "                \n",
    "            try:\n",
    "                longList_+=(self.getListOfRest(i))\n",
    "                print(i)\n",
    "                i+=1\n",
    "            except Exception as e:\n",
    "                print('gggg')\n",
    "                return longList_\n",
    "#        return longList_\n",
    "    \n",
    "    \n",
    "pages= search() \n",
    "\n",
    "ChineseRestaurant=pages.longList()"
   ]
  },
  {
   "cell_type": "code",
   "execution_count": 65,
   "metadata": {},
   "outputs": [
    {
     "data": {
      "text/plain": [
       "250"
      ]
     },
     "execution_count": 65,
     "metadata": {},
     "output_type": "execute_result"
    }
   ],
   "source": [
    "len(ChineseRestaurant)"
   ]
  },
  {
   "cell_type": "code",
   "execution_count": 68,
   "metadata": {},
   "outputs": [],
   "source": [
    "with open('ChineseRestaurant.csv', 'w',newline='',encoding=\"utf-8-sig\") as csv_file:\n",
    "    keys=ChineseRestaurant[0].keys()\n",
    "    writer = csv.DictWriter(csv_file,keys)\n",
    "    writer.writeheader()\n",
    "    for rows in ChineseRestaurant:\n",
    "        writer.writerow(rows)"
   ]
  },
  {
   "cell_type": "code",
   "execution_count": null,
   "metadata": {
    "collapsed": true
   },
   "outputs": [],
   "source": []
  },
  {
   "cell_type": "code",
   "execution_count": null,
   "metadata": {
    "collapsed": true
   },
   "outputs": [],
   "source": []
  }
 ],
 "metadata": {
  "kernelspec": {
   "display_name": "Python 3",
   "language": "python",
   "name": "python3"
  },
  "language_info": {
   "codemirror_mode": {
    "name": "ipython",
    "version": 3
   },
   "file_extension": ".py",
   "mimetype": "text/x-python",
   "name": "python",
   "nbconvert_exporter": "python",
   "pygments_lexer": "ipython3",
   "version": "3.6.1"
  }
 },
 "nbformat": 4,
 "nbformat_minor": 2
}
