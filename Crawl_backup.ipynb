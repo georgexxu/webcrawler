{
 "cells": [
  {
   "cell_type": "code",
   "execution_count": 34,
   "metadata": {
    "collapsed": true
   },
   "outputs": [],
   "source": [
    "import urllib.request\n",
    "import urllib.error\n",
    "import json\n",
    "import pprint"
   ]
  },
  {
   "cell_type": "code",
   "execution_count": 48,
   "metadata": {},
   "outputs": [],
   "source": [
    "class search:\n",
    "    # 初始化方法，定义一些变量\n",
    "    def __init__(self):      \n",
    "        \n",
    "        self.user_agent = 'Mozilla/5.0 (Windows NT 10.0; Win64; x64; rv:57.0) Gecko/20100101 Firefox/57.0'\n",
    "        \n",
    "        # 初始化headers\n",
    "        self.headers = {'User-Agent': self.user_agent}\n",
    "        # 存放程序是否继续运行的变量\n",
    "        self.enable = False\n",
    "        \n",
    "\n",
    "\n",
    "    # 传入某一页的索引获得页面代码\n",
    "    def getpage(self):\n",
    "        url = 'https://www.openrice.com/api/pois?uiLang=zh&uiCity=hongkong&page=1&&sortBy=Default&cuisineId=1008&districtId=2999'\n",
    "            # 构建请求的request\n",
    "        request = urllib.request.Request(url, headers=self.headers)\n",
    "            # 利用urlopen获取页面代码\n",
    "        response = urllib.request.urlopen(request)\n",
    "            # 将页面转化为UTF-8编码\n",
    "        pageCode = response.read().decode('utf-8')\n",
    "        \n",
    "        return pageCode\n",
    "    def getListOfRest(self):\n",
    "        contents=json.loads(self.getpage())\n",
    "        return contents['searchResult']['paginationResult']['results']\n",
    "\n",
    "pages= search() \n",
    "\n",
    "ListOfRest=pages.getListOfRest()"
   ]
  },
  {
   "cell_type": "code",
   "execution_count": 69,
   "metadata": {},
   "outputs": [],
   "source": [
    "pp=pprint.PrettyPrinter()\n",
    "ListOfRest_=[]\n",
    "for key in ListOfRest:\n",
    "    ListOfRest_.append({k: key.get(k, None) for k in ('name','priceUI','reviewCount','shortenUrl')})"
   ]
  },
  {
   "cell_type": "code",
   "execution_count": 70,
   "metadata": {},
   "outputs": [
    {
     "data": {
      "text/plain": [
       "[{'name': '漁牧',\n",
       "  'priceUI': '$101-200',\n",
       "  'reviewCount': 273,\n",
       "  'shortenUrl': 'https://s.openrice.com/QrbS0rke600'},\n",
       " {'name': '新南苑私房菜火鍋鷄煲',\n",
       "  'priceUI': '$201-400',\n",
       "  'reviewCount': 269,\n",
       "  'shortenUrl': 'https://s.openrice.com/QrbS0z2Q3W0'},\n",
       " {'name': '川燒',\n",
       "  'priceUI': '$101-200',\n",
       "  'reviewCount': 303,\n",
       "  'shortenUrl': 'https://s.openrice.com/QrbS0MaG200'},\n",
       " {'name': '尚上下夏 - 養生雞煲火鍋',\n",
       "  'priceUI': '$101-200',\n",
       "  'reviewCount': 237,\n",
       "  'shortenUrl': 'https://s.openrice.com/QrbS0Zhq200'},\n",
       " {'name': '老川皇',\n",
       "  'priceUI': '$51-100',\n",
       "  'reviewCount': 214,\n",
       "  'shortenUrl': 'https://s.openrice.com/QrbS0uSu200'},\n",
       " {'name': '餃掂手工餃子雲吞專門店',\n",
       "  'priceUI': '$50以下',\n",
       "  'reviewCount': 218,\n",
       "  'shortenUrl': 'https://s.openrice.com/QrbS0QjC200'},\n",
       " {'name': '蜀府川鍋',\n",
       "  'priceUI': '$101-200',\n",
       "  'reviewCount': 186,\n",
       "  'shortenUrl': 'https://s.openrice.com/QrbS0GwW100'},\n",
       " {'name': '安安燒',\n",
       "  'priceUI': '$101-200',\n",
       "  'reviewCount': 370,\n",
       "  'shortenUrl': 'https://s.openrice.com/QrbS0zlz0G0'},\n",
       " {'name': '尚素',\n",
       "  'priceUI': '$101-200',\n",
       "  'reviewCount': 164,\n",
       "  'shortenUrl': 'https://s.openrice.com/QrbS0iQS700'},\n",
       " {'name': '川婆婆',\n",
       "  'priceUI': '$51-100',\n",
       "  'reviewCount': 143,\n",
       "  'shortenUrl': 'https://s.openrice.com/QrbS0ADa600'},\n",
       " {'name': '前家樂餐廳火鍋店',\n",
       "  'priceUI': '$201-400',\n",
       "  'reviewCount': 196,\n",
       "  'shortenUrl': 'https://s.openrice.com/QrbS0FgG600'},\n",
       " {'name': '香湘辣妹',\n",
       "  'priceUI': '$101-200',\n",
       "  'reviewCount': 168,\n",
       "  'shortenUrl': 'https://s.openrice.com/QrbS0RHa700'},\n",
       " {'name': '龍鳳祥餃子館',\n",
       "  'priceUI': '$50以下',\n",
       "  'reviewCount': 120,\n",
       "  'shortenUrl': 'https://s.openrice.com/QrbS0hdy3W0'},\n",
       " {'name': '汀汀烤活魚',\n",
       "  'priceUI': '$51-100',\n",
       "  'reviewCount': 124,\n",
       "  'shortenUrl': 'https://s.openrice.com/QrbS0Bfi600'},\n",
       " {'name': '有口福',\n",
       "  'priceUI': '$51-100',\n",
       "  'reviewCount': 96,\n",
       "  'shortenUrl': 'https://s.openrice.com/QrbS0I3S100'}]"
      ]
     },
     "execution_count": 70,
     "metadata": {},
     "output_type": "execute_result"
    }
   ],
   "source": [
    "ListOfRest_\n"
   ]
  },
  {
   "cell_type": "code",
   "execution_count": null,
   "metadata": {},
   "outputs": [],
   "source": []
  },
  {
   "cell_type": "code",
   "execution_count": null,
   "metadata": {
    "collapsed": true
   },
   "outputs": [],
   "source": []
  }
 ],
 "metadata": {
  "kernelspec": {
   "display_name": "Python 3",
   "language": "python",
   "name": "python3"
  },
  "language_info": {
   "codemirror_mode": {
    "name": "ipython",
    "version": 3
   },
   "file_extension": ".py",
   "mimetype": "text/x-python",
   "name": "python",
   "nbconvert_exporter": "python",
   "pygments_lexer": "ipython3",
   "version": "3.6.1"
  }
 },
 "nbformat": 4,
 "nbformat_minor": 2
}
